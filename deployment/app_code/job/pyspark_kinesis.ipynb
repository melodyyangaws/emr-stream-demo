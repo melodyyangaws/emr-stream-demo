{
 "cells": [
  {
   "cell_type": "code",
   "execution_count": 1,
   "metadata": {},
   "outputs": [],
   "source": [
    "import os\n",
    "os.environ['PYSPARK_SUBMIT_ARGS'] = '--packages=com.qubole.spark/spark-sql-kinesis_2.11/1.1.3-spark_2.4 pyspark-shell'\n",
    "import findspark\n",
    "findspark.init()\n",
    "from pyspark.sql import SparkSession\n",
    "from pyspark.sql.functions import from_json, col\n",
    "from pyspark.sql.types import StructField, StructType, StringType, IntegerType\n",
    "import boto3\n",
    "import json"
   ]
  },
  {
   "cell_type": "code",
   "execution_count": 2,
   "metadata": {},
   "outputs": [
    {
     "data": {
      "text/plain": [
       "{'ResponseMetadata': {'RequestId': 'c2d85e3c-cc43-37de-95a9-de32bfbdb25f',\n",
       "  'HTTPStatusCode': 200,\n",
       "  'HTTPHeaders': {'x-amzn-requestid': 'c2d85e3c-cc43-37de-95a9-de32bfbdb25f',\n",
       "   'x-amz-id-2': 'nQUjPs4QPhvKG2hBexaRZbPXyD47szAqq0WqtdGRYMHs5VVCqMzLL+O9EmYTbtbqkw17GFJdV7pNfFnKrq6W3rn07w4ME5awGhP/dI+9/P4=',\n",
       "   'date': 'Sat, 27 Jun 2020 17:11:42 GMT',\n",
       "   'content-type': 'application/x-amz-json-1.1',\n",
       "   'content-length': '0'},\n",
       "  'RetryAttempts': 0}}"
      ]
     },
     "execution_count": 2,
     "metadata": {},
     "output_type": "execute_result"
    }
   ],
   "source": [
    "# make sure you have your AWS cerdentials set before you can run this\n",
    "\n",
    "# creating the Kinesis stream\n",
    "client = boto3.client('kinesis')\n",
    "stream_name='pyspark-kinesis'\n",
    "\n",
    "client.create_stream(\n",
    "        StreamName=stream_name,\n",
    "        ShardCount=1)"
   ]
  },
  {
   "cell_type": "code",
   "execution_count": 3,
   "metadata": {},
   "outputs": [],
   "source": [
    "# creating a couple of messages to send to kinesis\n",
    "messages = [\n",
    "    {'message_type': 'message1', 'count': 2},\n",
    "    {'message_type': 'message2', 'count': 1},\n",
    "    {'message_type': 'message1', 'count': 2},\n",
    "    {'message_type': 'message3', 'count': 3},\n",
    "    {'message_type': 'message1', 'count': 5}\n",
    "]"
   ]
  },
  {
   "cell_type": "code",
   "execution_count": 4,
   "metadata": {},
   "outputs": [],
   "source": [
    "for message in messages:\n",
    "    client.put_record(\n",
    "        StreamName=stream_name,\n",
    "        Data=json.dumps(message),\n",
    "        PartitionKey='part_key')"
   ]
  },
  {
   "cell_type": "code",
   "execution_count": 5,
   "metadata": {},
   "outputs": [],
   "source": [
    "spark = SparkSession.builder \\\n",
    "         .master('local[*]') \\\n",
    "         .appName('PySparkKinesis') \\\n",
    "         .getOrCreate()"
   ]
  },
  {
   "cell_type": "code",
   "execution_count": 6,
   "metadata": {},
   "outputs": [],
   "source": [
    "kinesis = spark \\\n",
    "        .readStream \\\n",
    "        .format('kinesis') \\\n",
    "        .option('streamName', stream_name) \\\n",
    "        .option('endpointUrl', 'https://kinesis.eu-west-1.amazonaws.com')\\\n",
    "        .option('region', 'eu-west-1') \\\n",
    "        .option('awsAccessKeyId', os.environ['KINESIS_ACCESS_KEY']) \\\n",
    "        .option('awsSecretKey', os.environ['KINESIS_SECRET_KEY']) \\\n",
    "        .option('startingposition', 'TRIM_HORIZON')\\\n",
    "        .load()\\"
   ]
  },
  {
   "cell_type": "code",
   "execution_count": 10,
   "metadata": {},
   "outputs": [],
   "source": [
    "schema = StructType([\n",
    "            StructField(\"message_type\", StringType()),\n",
    "            StructField(\"count\", IntegerType())])"
   ]
  },
  {
   "cell_type": "code",
   "execution_count": 15,
   "metadata": {},
   "outputs": [],
   "source": [
    "kinesis\\\n",
    "    .selectExpr('CAST(data AS STRING)')\\\n",
    "    .select(from_json('data', schema).alias('data'))\\\n",
    "    .select('data.*')\\\n",
    "    .writeStream\\\n",
    "    .outputMode('append')\\\n",
    "    .format('console')\\\n",
    "    .trigger(once=True) \\\n",
    "    .start()\\\n",
    "    .awaitTermination()"
   ]
  },
  {
   "cell_type": "code",
   "execution_count": 16,
   "metadata": {},
   "outputs": [
    {
     "data": {
      "text/plain": [
       "{'ResponseMetadata': {'RequestId': 'e6db1236-50ef-7819-b1aa-7c794fda075f',\n",
       "  'HTTPStatusCode': 200,\n",
       "  'HTTPHeaders': {'x-amzn-requestid': 'e6db1236-50ef-7819-b1aa-7c794fda075f',\n",
       "   'x-amz-id-2': 'EIDwFsTGgXZ30hunYdYiCITKsWz+fnJiBSu3rEJ6KD9N5TUTh4L0V8splZoOkJJiKXcPXJscDp44bHl5ixlqYHwVci6THu1J',\n",
       "   'date': 'Sat, 27 Jun 2020 15:55:59 GMT',\n",
       "   'content-type': 'application/x-amz-json-1.1',\n",
       "   'content-length': '0'},\n",
       "  'RetryAttempts': 0}}"
      ]
     },
     "execution_count": 16,
     "metadata": {},
     "output_type": "execute_result"
    }
   ],
   "source": [
    "# cleanup\n",
    "client.delete_stream(StreamName=stream_name)"
   ]
  },
  {
   "cell_type": "code",
   "execution_count": null,
   "metadata": {},
   "outputs": [],
   "source": []
  }
 ],
 "metadata": {
  "kernelspec": {
   "display_name": "Python 3",
   "language": "python",
   "name": "python3"
  },
  "language_info": {
   "codemirror_mode": {
    "name": "ipython",
    "version": 3
   },
   "file_extension": ".py",
   "mimetype": "text/x-python",
   "name": "python",
   "nbconvert_exporter": "python",
   "pygments_lexer": "ipython3",
   "version": "3.7.6"
  }
 },
 "nbformat": 4,
 "nbformat_minor": 4
}
